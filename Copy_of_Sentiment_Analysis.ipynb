{
  "metadata": {
    "kernelspec": {
      "language": "python",
      "display_name": "Python 3",
      "name": "python3"
    },
    "language_info": {
      "name": "python",
      "version": "3.10.13",
      "mimetype": "text/x-python",
      "codemirror_mode": {
        "name": "ipython",
        "version": 3
      },
      "pygments_lexer": "ipython3",
      "nbconvert_exporter": "python",
      "file_extension": ".py"
    },
    "kaggle": {
      "accelerator": "nvidiaTeslaT4",
      "dataSources": [
        {
          "sourceId": 2231927,
          "sourceType": "datasetVersion",
          "datasetId": 1340873
        }
      ],
      "dockerImageVersionId": 30747,
      "isInternetEnabled": true,
      "language": "python",
      "sourceType": "notebook",
      "isGpuEnabled": true
    },
    "colab": {
      "provenance": [],
      "include_colab_link": true
    }
  },
  "nbformat_minor": 0,
  "nbformat": 4,
  "cells": [
    {
      "cell_type": "markdown",
      "metadata": {
        "id": "view-in-github",
        "colab_type": "text"
      },
      "source": [
        "<a href=\"https://colab.research.google.com/github/chaitu1904/Sentiment-Analysis/blob/main/Copy_of_Sentiment_Analysis.ipynb\" target=\"_parent\"><img src=\"https://colab.research.google.com/assets/colab-badge.svg\" alt=\"Open In Colab\"/></a>"
      ]
    },
    {
      "source": [
        "# IMPORTANT: RUN THIS CELL IN ORDER TO IMPORT YOUR KAGGLE DATA SOURCES,\n",
        "# THEN FEEL FREE TO DELETE THIS CELL.\n",
        "# NOTE: THIS NOTEBOOK ENVIRONMENT DIFFERS FROM KAGGLE'S PYTHON\n",
        "# ENVIRONMENT SO THERE MAY BE MISSING LIBRARIES USED BY YOUR\n",
        "# NOTEBOOK.\n",
        "import kagglehub\n",
        "saurabhshahane_twitter_sentiment_dataset_path = kagglehub.dataset_download('saurabhshahane/twitter-sentiment-dataset')\n",
        "\n",
        "print('Data source import complete.')\n"
      ],
      "metadata": {
        "id": "w_GZetlhl4wm",
        "outputId": "9a498880-ff38-458d-8101-59e3da98f10c",
        "colab": {
          "base_uri": "https://localhost:8080/"
        }
      },
      "cell_type": "code",
      "outputs": [
        {
          "output_type": "stream",
          "name": "stdout",
          "text": [
            "Downloading from https://www.kaggle.com/api/v1/datasets/download/saurabhshahane/twitter-sentiment-dataset?dataset_version_number=1...\n"
          ]
        },
        {
          "output_type": "stream",
          "name": "stderr",
          "text": [
            "100%|██████████| 7.60M/7.60M [00:00<00:00, 65.0MB/s]"
          ]
        },
        {
          "output_type": "stream",
          "name": "stdout",
          "text": [
            "Extracting files...\n"
          ]
        },
        {
          "output_type": "stream",
          "name": "stderr",
          "text": [
            "\n"
          ]
        },
        {
          "output_type": "stream",
          "name": "stdout",
          "text": [
            "Data source import complete.\n"
          ]
        }
      ],
      "execution_count": 1
    },
    {
      "cell_type": "markdown",
      "source": [
        "# DL Prac\n",
        "\n",
        "> Name - Ishaan Gupta\n"
      ],
      "metadata": {
        "id": "NEbIzr0al4ws"
      }
    },
    {
      "cell_type": "code",
      "source": [
        "import numpy as np\n",
        "import pandas as pd\n",
        "from sklearn.model_selection import train_test_split\n",
        "from sklearn.preprocessing import LabelEncoder\n",
        "from tensorflow.keras.preprocessing.text import Tokenizer\n",
        "from tensorflow.keras.preprocessing.sequence import pad_sequences\n",
        "from tensorflow.keras.models import Sequential\n",
        "from tensorflow.keras.layers import Embedding, LSTM, Dense, SimpleRNN\n",
        "from tensorflow.keras.layers import Bidirectional\n",
        "from tensorflow.keras.utils import to_categorical\n",
        "import nltk\n",
        "from nltk.corpus import stopwords\n",
        "from nltk.stem import PorterStemmer\n",
        "import re\n",
        "import seaborn as sns\n",
        "import matplotlib.pyplot as plt"
      ],
      "metadata": {
        "execution": {
          "iopub.status.busy": "2025-03-31T13:51:10.779852Z",
          "iopub.execute_input": "2025-03-31T13:51:10.780616Z",
          "iopub.status.idle": "2025-03-31T13:51:24.927399Z",
          "shell.execute_reply.started": "2025-03-31T13:51:10.780562Z",
          "shell.execute_reply": "2025-03-31T13:51:24.926698Z"
        },
        "trusted": true,
        "id": "3cRXYhlrl4wu"
      },
      "outputs": [],
      "execution_count": 2
    },
    {
      "cell_type": "code",
      "source": [
        "nltk.download('stopwords')"
      ],
      "metadata": {
        "execution": {
          "iopub.status.busy": "2025-03-31T13:51:24.929065Z",
          "iopub.execute_input": "2025-03-31T13:51:24.929976Z",
          "iopub.status.idle": "2025-03-31T13:51:25.070477Z",
          "shell.execute_reply.started": "2025-03-31T13:51:24.929945Z",
          "shell.execute_reply": "2025-03-31T13:51:25.069622Z"
        },
        "trusted": true,
        "id": "bUvHAM22l4wv",
        "outputId": "92c434f2-d3fb-46be-d342-e9ed8a25d2e7",
        "colab": {
          "base_uri": "https://localhost:8080/"
        }
      },
      "outputs": [
        {
          "output_type": "stream",
          "name": "stderr",
          "text": [
            "[nltk_data] Downloading package stopwords to /root/nltk_data...\n",
            "[nltk_data]   Unzipping corpora/stopwords.zip.\n"
          ]
        },
        {
          "output_type": "execute_result",
          "data": {
            "text/plain": [
              "True"
            ]
          },
          "metadata": {},
          "execution_count": 3
        }
      ],
      "execution_count": 3
    },
    {
      "cell_type": "code",
      "source": [
        "data = pd.read_csv('/content/Twitter_Data.csv')\n",
        "data.head()"
      ],
      "metadata": {
        "execution": {
          "iopub.status.busy": "2025-03-31T13:51:25.07141Z",
          "iopub.execute_input": "2025-03-31T13:51:25.071648Z",
          "iopub.status.idle": "2025-03-31T13:51:25.822457Z",
          "shell.execute_reply.started": "2025-03-31T13:51:25.071627Z",
          "shell.execute_reply": "2025-03-31T13:51:25.821575Z"
        },
        "trusted": true,
        "id": "03X2mAW_l4ww",
        "outputId": "db87bd2c-2d9a-4240-8947-fd6ddc2cbb40",
        "colab": {
          "base_uri": "https://localhost:8080/",
          "height": 206
        }
      },
      "outputs": [
        {
          "output_type": "execute_result",
          "data": {
            "text/plain": [
              "                                          clean_text  category\n",
              "0  when modi promised “minimum government maximum...      -1.0\n",
              "1  talk all the nonsense and continue all the dra...       0.0\n",
              "2  what did just say vote for modi  welcome bjp t...       1.0\n",
              "3  asking his supporters prefix chowkidar their n...       1.0\n",
              "4  answer who among these the most powerful world...       1.0"
            ],
            "text/html": [
              "\n",
              "  <div id=\"df-80f2eda4-a015-4c48-a467-31250503294f\" class=\"colab-df-container\">\n",
              "    <div>\n",
              "<style scoped>\n",
              "    .dataframe tbody tr th:only-of-type {\n",
              "        vertical-align: middle;\n",
              "    }\n",
              "\n",
              "    .dataframe tbody tr th {\n",
              "        vertical-align: top;\n",
              "    }\n",
              "\n",
              "    .dataframe thead th {\n",
              "        text-align: right;\n",
              "    }\n",
              "</style>\n",
              "<table border=\"1\" class=\"dataframe\">\n",
              "  <thead>\n",
              "    <tr style=\"text-align: right;\">\n",
              "      <th></th>\n",
              "      <th>clean_text</th>\n",
              "      <th>category</th>\n",
              "    </tr>\n",
              "  </thead>\n",
              "  <tbody>\n",
              "    <tr>\n",
              "      <th>0</th>\n",
              "      <td>when modi promised “minimum government maximum...</td>\n",
              "      <td>-1.0</td>\n",
              "    </tr>\n",
              "    <tr>\n",
              "      <th>1</th>\n",
              "      <td>talk all the nonsense and continue all the dra...</td>\n",
              "      <td>0.0</td>\n",
              "    </tr>\n",
              "    <tr>\n",
              "      <th>2</th>\n",
              "      <td>what did just say vote for modi  welcome bjp t...</td>\n",
              "      <td>1.0</td>\n",
              "    </tr>\n",
              "    <tr>\n",
              "      <th>3</th>\n",
              "      <td>asking his supporters prefix chowkidar their n...</td>\n",
              "      <td>1.0</td>\n",
              "    </tr>\n",
              "    <tr>\n",
              "      <th>4</th>\n",
              "      <td>answer who among these the most powerful world...</td>\n",
              "      <td>1.0</td>\n",
              "    </tr>\n",
              "  </tbody>\n",
              "</table>\n",
              "</div>\n",
              "    <div class=\"colab-df-buttons\">\n",
              "\n",
              "  <div class=\"colab-df-container\">\n",
              "    <button class=\"colab-df-convert\" onclick=\"convertToInteractive('df-80f2eda4-a015-4c48-a467-31250503294f')\"\n",
              "            title=\"Convert this dataframe to an interactive table.\"\n",
              "            style=\"display:none;\">\n",
              "\n",
              "  <svg xmlns=\"http://www.w3.org/2000/svg\" height=\"24px\" viewBox=\"0 -960 960 960\">\n",
              "    <path d=\"M120-120v-720h720v720H120Zm60-500h600v-160H180v160Zm220 220h160v-160H400v160Zm0 220h160v-160H400v160ZM180-400h160v-160H180v160Zm440 0h160v-160H620v160ZM180-180h160v-160H180v160Zm440 0h160v-160H620v160Z\"/>\n",
              "  </svg>\n",
              "    </button>\n",
              "\n",
              "  <style>\n",
              "    .colab-df-container {\n",
              "      display:flex;\n",
              "      gap: 12px;\n",
              "    }\n",
              "\n",
              "    .colab-df-convert {\n",
              "      background-color: #E8F0FE;\n",
              "      border: none;\n",
              "      border-radius: 50%;\n",
              "      cursor: pointer;\n",
              "      display: none;\n",
              "      fill: #1967D2;\n",
              "      height: 32px;\n",
              "      padding: 0 0 0 0;\n",
              "      width: 32px;\n",
              "    }\n",
              "\n",
              "    .colab-df-convert:hover {\n",
              "      background-color: #E2EBFA;\n",
              "      box-shadow: 0px 1px 2px rgba(60, 64, 67, 0.3), 0px 1px 3px 1px rgba(60, 64, 67, 0.15);\n",
              "      fill: #174EA6;\n",
              "    }\n",
              "\n",
              "    .colab-df-buttons div {\n",
              "      margin-bottom: 4px;\n",
              "    }\n",
              "\n",
              "    [theme=dark] .colab-df-convert {\n",
              "      background-color: #3B4455;\n",
              "      fill: #D2E3FC;\n",
              "    }\n",
              "\n",
              "    [theme=dark] .colab-df-convert:hover {\n",
              "      background-color: #434B5C;\n",
              "      box-shadow: 0px 1px 3px 1px rgba(0, 0, 0, 0.15);\n",
              "      filter: drop-shadow(0px 1px 2px rgba(0, 0, 0, 0.3));\n",
              "      fill: #FFFFFF;\n",
              "    }\n",
              "  </style>\n",
              "\n",
              "    <script>\n",
              "      const buttonEl =\n",
              "        document.querySelector('#df-80f2eda4-a015-4c48-a467-31250503294f button.colab-df-convert');\n",
              "      buttonEl.style.display =\n",
              "        google.colab.kernel.accessAllowed ? 'block' : 'none';\n",
              "\n",
              "      async function convertToInteractive(key) {\n",
              "        const element = document.querySelector('#df-80f2eda4-a015-4c48-a467-31250503294f');\n",
              "        const dataTable =\n",
              "          await google.colab.kernel.invokeFunction('convertToInteractive',\n",
              "                                                    [key], {});\n",
              "        if (!dataTable) return;\n",
              "\n",
              "        const docLinkHtml = 'Like what you see? Visit the ' +\n",
              "          '<a target=\"_blank\" href=https://colab.research.google.com/notebooks/data_table.ipynb>data table notebook</a>'\n",
              "          + ' to learn more about interactive tables.';\n",
              "        element.innerHTML = '';\n",
              "        dataTable['output_type'] = 'display_data';\n",
              "        await google.colab.output.renderOutput(dataTable, element);\n",
              "        const docLink = document.createElement('div');\n",
              "        docLink.innerHTML = docLinkHtml;\n",
              "        element.appendChild(docLink);\n",
              "      }\n",
              "    </script>\n",
              "  </div>\n",
              "\n",
              "\n",
              "    <div id=\"df-65530a6a-3e8d-48df-9e8b-dc38b454bcce\">\n",
              "      <button class=\"colab-df-quickchart\" onclick=\"quickchart('df-65530a6a-3e8d-48df-9e8b-dc38b454bcce')\"\n",
              "                title=\"Suggest charts\"\n",
              "                style=\"display:none;\">\n",
              "\n",
              "<svg xmlns=\"http://www.w3.org/2000/svg\" height=\"24px\"viewBox=\"0 0 24 24\"\n",
              "     width=\"24px\">\n",
              "    <g>\n",
              "        <path d=\"M19 3H5c-1.1 0-2 .9-2 2v14c0 1.1.9 2 2 2h14c1.1 0 2-.9 2-2V5c0-1.1-.9-2-2-2zM9 17H7v-7h2v7zm4 0h-2V7h2v10zm4 0h-2v-4h2v4z\"/>\n",
              "    </g>\n",
              "</svg>\n",
              "      </button>\n",
              "\n",
              "<style>\n",
              "  .colab-df-quickchart {\n",
              "      --bg-color: #E8F0FE;\n",
              "      --fill-color: #1967D2;\n",
              "      --hover-bg-color: #E2EBFA;\n",
              "      --hover-fill-color: #174EA6;\n",
              "      --disabled-fill-color: #AAA;\n",
              "      --disabled-bg-color: #DDD;\n",
              "  }\n",
              "\n",
              "  [theme=dark] .colab-df-quickchart {\n",
              "      --bg-color: #3B4455;\n",
              "      --fill-color: #D2E3FC;\n",
              "      --hover-bg-color: #434B5C;\n",
              "      --hover-fill-color: #FFFFFF;\n",
              "      --disabled-bg-color: #3B4455;\n",
              "      --disabled-fill-color: #666;\n",
              "  }\n",
              "\n",
              "  .colab-df-quickchart {\n",
              "    background-color: var(--bg-color);\n",
              "    border: none;\n",
              "    border-radius: 50%;\n",
              "    cursor: pointer;\n",
              "    display: none;\n",
              "    fill: var(--fill-color);\n",
              "    height: 32px;\n",
              "    padding: 0;\n",
              "    width: 32px;\n",
              "  }\n",
              "\n",
              "  .colab-df-quickchart:hover {\n",
              "    background-color: var(--hover-bg-color);\n",
              "    box-shadow: 0 1px 2px rgba(60, 64, 67, 0.3), 0 1px 3px 1px rgba(60, 64, 67, 0.15);\n",
              "    fill: var(--button-hover-fill-color);\n",
              "  }\n",
              "\n",
              "  .colab-df-quickchart-complete:disabled,\n",
              "  .colab-df-quickchart-complete:disabled:hover {\n",
              "    background-color: var(--disabled-bg-color);\n",
              "    fill: var(--disabled-fill-color);\n",
              "    box-shadow: none;\n",
              "  }\n",
              "\n",
              "  .colab-df-spinner {\n",
              "    border: 2px solid var(--fill-color);\n",
              "    border-color: transparent;\n",
              "    border-bottom-color: var(--fill-color);\n",
              "    animation:\n",
              "      spin 1s steps(1) infinite;\n",
              "  }\n",
              "\n",
              "  @keyframes spin {\n",
              "    0% {\n",
              "      border-color: transparent;\n",
              "      border-bottom-color: var(--fill-color);\n",
              "      border-left-color: var(--fill-color);\n",
              "    }\n",
              "    20% {\n",
              "      border-color: transparent;\n",
              "      border-left-color: var(--fill-color);\n",
              "      border-top-color: var(--fill-color);\n",
              "    }\n",
              "    30% {\n",
              "      border-color: transparent;\n",
              "      border-left-color: var(--fill-color);\n",
              "      border-top-color: var(--fill-color);\n",
              "      border-right-color: var(--fill-color);\n",
              "    }\n",
              "    40% {\n",
              "      border-color: transparent;\n",
              "      border-right-color: var(--fill-color);\n",
              "      border-top-color: var(--fill-color);\n",
              "    }\n",
              "    60% {\n",
              "      border-color: transparent;\n",
              "      border-right-color: var(--fill-color);\n",
              "    }\n",
              "    80% {\n",
              "      border-color: transparent;\n",
              "      border-right-color: var(--fill-color);\n",
              "      border-bottom-color: var(--fill-color);\n",
              "    }\n",
              "    90% {\n",
              "      border-color: transparent;\n",
              "      border-bottom-color: var(--fill-color);\n",
              "    }\n",
              "  }\n",
              "</style>\n",
              "\n",
              "      <script>\n",
              "        async function quickchart(key) {\n",
              "          const quickchartButtonEl =\n",
              "            document.querySelector('#' + key + ' button');\n",
              "          quickchartButtonEl.disabled = true;  // To prevent multiple clicks.\n",
              "          quickchartButtonEl.classList.add('colab-df-spinner');\n",
              "          try {\n",
              "            const charts = await google.colab.kernel.invokeFunction(\n",
              "                'suggestCharts', [key], {});\n",
              "          } catch (error) {\n",
              "            console.error('Error during call to suggestCharts:', error);\n",
              "          }\n",
              "          quickchartButtonEl.classList.remove('colab-df-spinner');\n",
              "          quickchartButtonEl.classList.add('colab-df-quickchart-complete');\n",
              "        }\n",
              "        (() => {\n",
              "          let quickchartButtonEl =\n",
              "            document.querySelector('#df-65530a6a-3e8d-48df-9e8b-dc38b454bcce button');\n",
              "          quickchartButtonEl.style.display =\n",
              "            google.colab.kernel.accessAllowed ? 'block' : 'none';\n",
              "        })();\n",
              "      </script>\n",
              "    </div>\n",
              "\n",
              "    </div>\n",
              "  </div>\n"
            ],
            "application/vnd.google.colaboratory.intrinsic+json": {
              "type": "dataframe",
              "variable_name": "data"
            }
          },
          "metadata": {},
          "execution_count": 5
        }
      ],
      "execution_count": 5
    },
    {
      "cell_type": "code",
      "source": [
        "sns.countplot(x='category', data=data)\n",
        "plt.show()"
      ],
      "metadata": {
        "execution": {
          "iopub.status.busy": "2025-03-31T13:51:25.825111Z",
          "iopub.execute_input": "2025-03-31T13:51:25.825692Z",
          "iopub.status.idle": "2025-03-31T13:51:26.056559Z",
          "shell.execute_reply.started": "2025-03-31T13:51:25.825667Z",
          "shell.execute_reply": "2025-03-31T13:51:26.055784Z"
        },
        "trusted": true,
        "id": "7EB_VXfJl4wx",
        "outputId": "5d42fafa-a28a-451f-eeb7-8f8b8611750c",
        "colab": {
          "base_uri": "https://localhost:8080/",
          "height": 449
        }
      },
      "outputs": [
        {
          "output_type": "display_data",
          "data": {
            "text/plain": [
              "<Figure size 640x480 with 1 Axes>"
            ],
            "image/png": "[encoded data removed]"
          },
          "metadata": {}
        }
      ],
      "execution_count": 6
    },
    {
      "cell_type": "code",
      "source": [
        "data.dropna(how='any', inplace=True)\n",
        "data.isnull().sum()"
      ],
      "metadata": {
        "execution": {
          "iopub.status.busy": "2025-03-31T13:51:26.057588Z",
          "iopub.execute_input": "2025-03-31T13:51:26.057833Z",
          "iopub.status.idle": "2025-03-31T13:51:26.095288Z",
          "shell.execute_reply.started": "2025-03-31T13:51:26.057811Z",
          "shell.execute_reply": "2025-03-31T13:51:26.094591Z"
        },
        "trusted": true,
        "id": "Kkud9Uerl4wy",
        "outputId": "17b98107-0de1-434a-8d49-b625b0b7c1fa",
        "colab": {
          "base_uri": "https://localhost:8080/",
          "height": 147
        }
      },
      "outputs": [
        {
          "output_type": "execute_result",
          "data": {
            "text/plain": [
              "clean_text    0\n",
              "category      0\n",
              "dtype: int64"
            ],
            "text/html": [
              "<div>\n",
              "<style scoped>\n",
              "    .dataframe tbody tr th:only-of-type {\n",
              "        vertical-align: middle;\n",
              "    }\n",
              "\n",
              "    .dataframe tbody tr th {\n",
              "        vertical-align: top;\n",
              "    }\n",
              "\n",
              "    .dataframe thead th {\n",
              "        text-align: right;\n",
              "    }\n",
              "</style>\n",
              "<table border=\"1\" class=\"dataframe\">\n",
              "  <thead>\n",
              "    <tr style=\"text-align: right;\">\n",
              "      <th></th>\n",
              "      <th>0</th>\n",
              "    </tr>\n",
              "  </thead>\n",
              "  <tbody>\n",
              "    <tr>\n",
              "      <th>clean_text</th>\n",
              "      <td>0</td>\n",
              "    </tr>\n",
              "    <tr>\n",
              "      <th>category</th>\n",
              "      <td>0</td>\n",
              "    </tr>\n",
              "  </tbody>\n",
              "</table>\n",
              "</div><br><label><b>dtype:</b> int64</label>"
            ]
          },
          "metadata": {},
          "execution_count": 8
        }
      ],
      "execution_count": 8
    },
    {
      "cell_type": "code",
      "source": [
        "texts = data['clean_text'].tolist()\n",
        "labels = data['category'].tolist()"
      ],
      "metadata": {
        "execution": {
          "iopub.status.busy": "2025-03-31T13:51:26.096101Z",
          "iopub.execute_input": "2025-03-31T13:51:26.096302Z",
          "iopub.status.idle": "2025-03-31T13:51:26.108551Z",
          "shell.execute_reply.started": "2025-03-31T13:51:26.096285Z",
          "shell.execute_reply": "2025-03-31T13:51:26.10774Z"
        },
        "trusted": true,
        "id": "cDyyFvYsl4wz"
      },
      "outputs": [],
      "execution_count": 7
    },
    {
      "cell_type": "markdown",
      "source": [
        "### Text preprocessing - stopwords removal and porter stemming algorithm"
      ],
      "metadata": {
        "id": "vWAWRLgKl4wz"
      }
    },
    {
      "cell_type": "code",
      "source": [
        "# Text preprocessing\n",
        "def preprocess_text(text):\n",
        "    text = re.sub(r'[^a-zA-Z\\s]', '', text)\n",
        "\n",
        "    text = text.lower()\n",
        "    tokens = text.split()\n",
        "\n",
        "    stop_words = set(stopwords.words('english'))\n",
        "    tokens = [token for token in tokens if token not in stop_words]\n",
        "\n",
        "    stemmer = PorterStemmer()\n",
        "    tokens = [stemmer.stem(token) for token in tokens]\n",
        "\n",
        "    return ' '.join(tokens)"
      ],
      "metadata": {
        "execution": {
          "iopub.status.busy": "2025-03-31T13:51:26.109529Z",
          "iopub.execute_input": "2025-03-31T13:51:26.109772Z",
          "iopub.status.idle": "2025-03-31T13:51:26.120711Z",
          "shell.execute_reply.started": "2025-03-31T13:51:26.109746Z",
          "shell.execute_reply": "2025-03-31T13:51:26.119865Z"
        },
        "trusted": true,
        "id": "9WF-EEKFl4w0"
      },
      "outputs": [],
      "execution_count": 9
    },
    {
      "cell_type": "code",
      "source": [
        "# Ensure that only string elements are processed\n",
        "preprocessed_texts = [preprocess_text(text) for text in texts if isinstance(text, str)]"
      ],
      "metadata": {
        "execution": {
          "iopub.status.busy": "2025-03-31T13:51:26.1219Z",
          "iopub.execute_input": "2025-03-31T13:51:26.122152Z",
          "iopub.status.idle": "2025-03-31T13:52:29.857164Z",
          "shell.execute_reply.started": "2025-03-31T13:51:26.122132Z",
          "shell.execute_reply": "2025-03-31T13:52:29.856492Z"
        },
        "trusted": true,
        "id": "4CGqvGAql4w1"
      },
      "outputs": [],
      "execution_count": 12
    },
    {
      "cell_type": "markdown",
      "source": [
        "### Tokenization and fixing the vocabulary size"
      ],
      "metadata": {
        "id": "1kQw3f0jl4w1"
      }
    },
    {
      "cell_type": "code",
      "source": [
        "# Tokenization and word embeddings\n",
        "vocab_size = 10000\n",
        "tokenizer = Tokenizer(num_words=vocab_size, oov_token='<OOV>')\n",
        "tokenizer.fit_on_texts(preprocessed_texts)\n",
        "sequences = tokenizer.texts_to_sequences(preprocessed_texts)"
      ],
      "metadata": {
        "execution": {
          "iopub.status.busy": "2025-03-31T13:52:29.858078Z",
          "iopub.execute_input": "2025-03-31T13:52:29.858297Z",
          "iopub.status.idle": "2025-03-31T13:52:34.300119Z",
          "shell.execute_reply.started": "2025-03-31T13:52:29.858279Z",
          "shell.execute_reply": "2025-03-31T13:52:34.299407Z"
        },
        "trusted": true,
        "id": "5RbpSc96l4w2"
      },
      "outputs": [],
      "execution_count": 13
    },
    {
      "cell_type": "markdown",
      "source": [
        "### Padding the sequence"
      ],
      "metadata": {
        "id": "SPGNYloMl4w2"
      }
    },
    {
      "cell_type": "code",
      "source": [
        "# Padding sequences\n",
        "max_length = 80\n",
        "padded_sequences = pad_sequences(sequences, maxlen=max_length, padding='post', truncating='post')"
      ],
      "metadata": {
        "execution": {
          "iopub.status.busy": "2025-03-31T13:52:34.302234Z",
          "iopub.execute_input": "2025-03-31T13:52:34.302535Z",
          "iopub.status.idle": "2025-03-31T13:52:34.667346Z",
          "shell.execute_reply.started": "2025-03-31T13:52:34.302513Z",
          "shell.execute_reply": "2025-03-31T13:52:34.666685Z"
        },
        "trusted": true,
        "id": "vlmzJ7_kl4w2"
      },
      "outputs": [],
      "execution_count": 14
    },
    {
      "cell_type": "markdown",
      "source": [
        "### One hot encoding"
      ],
      "metadata": {
        "id": "JU9HHOLil4w3"
      }
    },
    {
      "cell_type": "code",
      "source": [
        "# Prepare labels\n",
        "label_encoder = LabelEncoder()\n",
        "encoded_labels = label_encoder.fit_transform(labels)\n",
        "num_classes = len(set(labels))\n",
        "one_hot_labels = to_categorical(encoded_labels)"
      ],
      "metadata": {
        "execution": {
          "iopub.status.busy": "2025-03-31T13:52:34.668341Z",
          "iopub.execute_input": "2025-03-31T13:52:34.66862Z",
          "iopub.status.idle": "2025-03-31T13:52:34.697866Z",
          "shell.execute_reply.started": "2025-03-31T13:52:34.668599Z",
          "shell.execute_reply": "2025-03-31T13:52:34.69697Z"
        },
        "trusted": true,
        "id": "ad5SmMJTl4w3"
      },
      "outputs": [],
      "execution_count": 15
    },
    {
      "cell_type": "code",
      "source": [
        "# Ensure that only string elements in 'clean_text' column are kept,\n",
        "# and also ensure the corresponding 'category' labels are kept as well.\n",
        "# Filter the DataFrame based on the type of the 'clean_text' column.\n",
        "data_filtered = data[data['clean_text'].apply(lambda x: isinstance(x, str))].copy()\n",
        "\n",
        "# Now create the lists for texts and labels from the filtered DataFrame\n",
        "texts = data_filtered['clean_text'].tolist()\n",
        "labels = data_filtered['category'].tolist()\n",
        "\n",
        "# Text preprocessing\n",
        "def preprocess_text(text):\n",
        "    text = re.sub(r'[^a-zA-Z\\s]', '', text)\n",
        "    text = text.lower()\n",
        "    tokens = text.split()\n",
        "    stop_words = set(stopwords.words('english'))\n",
        "    tokens = [token for token in tokens if token not in stop_words]\n",
        "    stemmer = PorterStemmer()\n",
        "    tokens = [stemmer.stem(token) for token in tokens]\n",
        "    return ' '.join(tokens)\n",
        "\n",
        "# Apply preprocessing to the filtered texts list\n",
        "preprocessed_texts = [preprocess_text(text) for text in texts]\n",
        "\n",
        "# Tokenization and word embeddings\n",
        "vocab_size = 10000\n",
        "tokenizer = Tokenizer(num_words=vocab_size, oov_token='<OOV>')\n",
        "tokenizer.fit_on_texts(preprocessed_texts)\n",
        "sequences = tokenizer.texts_to_sequences(preprocessed_texts)\n",
        "\n",
        "# Padding sequences\n",
        "max_length = 80\n",
        "padded_sequences = pad_sequences(sequences, maxlen=max_length, padding='post', truncating='post')\n",
        "\n",
        "# Prepare labels from the filtered labels list\n",
        "label_encoder = LabelEncoder()\n",
        "encoded_labels = label_encoder.fit_transform(labels)\n",
        "num_classes = len(set(labels))\n",
        "one_hot_labels = to_categorical(encoded_labels)\n",
        "\n",
        "# Split the data\n",
        "X_train, X_test, y_train, y_test = train_test_split(padded_sequences, one_hot_labels, test_size=0.2, random_state=42)"
      ],
      "metadata": {
        "execution": {
          "iopub.status.busy": "2025-03-31T13:52:34.698933Z",
          "iopub.execute_input": "2025-03-31T13:52:34.699154Z",
          "iopub.status.idle": "2025-03-31T13:52:34.745931Z",
          "shell.execute_reply.started": "2025-03-31T13:52:34.699136Z",
          "shell.execute_reply": "2025-03-31T13:52:34.744841Z"
        },
        "trusted": true,
        "id": "vv_yFF08l4w3"
      },
      "outputs": [],
      "execution_count": 17
    },
    {
      "cell_type": "markdown",
      "source": [
        "### Construct the sequential model RNN and LSTM"
      ],
      "metadata": {
        "id": "WD3m1evIl4w3"
      }
    },
    {
      "cell_type": "code",
      "source": [
        "class_names = {\"-1\":\"Negative\", \"0\":\"Neutral\", \"1\":\"Positive\"}"
      ],
      "metadata": {
        "trusted": true,
        "execution": {
          "iopub.status.busy": "2025-03-31T14:31:46.738169Z",
          "iopub.execute_input": "2025-03-31T14:31:46.738877Z",
          "iopub.status.idle": "2025-03-31T14:31:46.743014Z",
          "shell.execute_reply.started": "2025-03-31T14:31:46.738848Z",
          "shell.execute_reply": "2025-03-31T14:31:46.741877Z"
        },
        "id": "cIZM_EC4l4w3"
      },
      "outputs": [],
      "execution_count": 18
    },
    {
      "cell_type": "code",
      "source": [
        "# Build LSTM + RNN model\n",
        "embedding_dim = 16\n",
        "\n",
        "model = Sequential([\n",
        "    Embedding(vocab_size, embedding_dim, input_length=max_length),\n",
        "    Bidirectional(LSTM(32, return_sequences=True)),\n",
        "    Bidirectional(SimpleRNN(32)),\n",
        "    Dense(64, activation='relu'),\n",
        "    Dense(num_classes, activation='softmax')\n",
        "])\n",
        "\n",
        "\n",
        "model.compile(optimizer='adam', loss='binary_crossentropy', metrics=['accuracy'])"
      ],
      "metadata": {
        "execution": {
          "iopub.status.busy": "2025-03-31T13:52:34.74731Z",
          "iopub.execute_input": "2025-03-31T13:52:34.747685Z",
          "iopub.status.idle": "2025-03-31T13:52:35.696656Z",
          "shell.execute_reply.started": "2025-03-31T13:52:34.747654Z",
          "shell.execute_reply": "2025-03-31T13:52:35.695784Z"
        },
        "trusted": true,
        "id": "r_9RePUQl4w4",
        "outputId": "6c69d5af-5c4e-4749-df14-7803d1fb5e0f",
        "colab": {
          "base_uri": "https://localhost:8080/"
        }
      },
      "outputs": [
        {
          "output_type": "stream",
          "name": "stderr",
          "text": [
            "/usr/local/lib/python3.11/dist-packages/keras/src/layers/core/embedding.py:90: UserWarning: Argument `input_length` is deprecated. Just remove it.\n",
            "  warnings.warn(\n"
          ]
        }
      ],
      "execution_count": 19
    },
    {
      "cell_type": "code",
      "source": [
        "history = model.fit(X_train, y_train, epochs=5, validation_split=0.1, batch_size=32, verbose=1)"
      ],
      "metadata": {
        "execution": {
          "iopub.status.busy": "2025-03-31T13:52:35.697786Z",
          "iopub.execute_input": "2025-03-31T13:52:35.698114Z",
          "iopub.status.idle": "2025-03-31T14:25:47.793531Z",
          "shell.execute_reply.started": "2025-03-31T13:52:35.698085Z",
          "shell.execute_reply": "2025-03-31T14:25:47.792832Z"
        },
        "trusted": true,
        "id": "0TDM7nZ_l4w4",
        "outputId": "dff95f11-7732-4b92-c903-c90c925d4ac7",
        "colab": {
          "base_uri": "https://localhost:8080/"
        }
      },
      "outputs": [
        {
          "output_type": "stream",
          "name": "stdout",
          "text": [
            "Epoch 1/5\n",
            "\u001b[1m3667/3667\u001b[0m \u001b[32m━━━━━━━━━━━━━━━━━━━━\u001b[0m\u001b[37m\u001b[0m \u001b[1m178s\u001b[0m 47ms/step - accuracy: 0.7111 - loss: 0.4071 - val_accuracy: 0.8557 - val_loss: 0.2524\n",
            "Epoch 2/5\n",
            "\u001b[1m3667/3667\u001b[0m \u001b[32m━━━━━━━━━━━━━━━━━━━━\u001b[0m\u001b[37m\u001b[0m \u001b[1m200s\u001b[0m 47ms/step - accuracy: 0.8649 - loss: 0.2367 - val_accuracy: 0.8596 - val_loss: 0.2462\n",
            "Epoch 3/5\n",
            "\u001b[1m3667/3667\u001b[0m \u001b[32m━━━━━━━━━━━━━━━━━━━━\u001b[0m\u001b[37m\u001b[0m \u001b[1m200s\u001b[0m 46ms/step - accuracy: 0.8783 - loss: 0.2145 - val_accuracy: 0.8594 - val_loss: 0.2441\n",
            "Epoch 4/5\n",
            "\u001b[1m3667/3667\u001b[0m \u001b[32m━━━━━━━━━━━━━━━━━━━━\u001b[0m\u001b[37m\u001b[0m \u001b[1m172s\u001b[0m 47ms/step - accuracy: 0.8892 - loss: 0.1963 - val_accuracy: 0.8583 - val_loss: 0.2555\n",
            "Epoch 5/5\n",
            "\u001b[1m3667/3667\u001b[0m \u001b[32m━━━━━━━━━━━━━━━━━━━━\u001b[0m\u001b[37m\u001b[0m \u001b[1m200s\u001b[0m 47ms/step - accuracy: 0.9001 - loss: 0.1766 - val_accuracy: 0.8534 - val_loss: 0.2748\n"
          ]
        }
      ],
      "execution_count": 20
    },
    {
      "cell_type": "markdown",
      "source": [
        "we see the model is overfitting, but accuracy isnt our primary concern here"
      ],
      "metadata": {
        "id": "AiR149cNl4w4"
      }
    },
    {
      "cell_type": "markdown",
      "source": [
        "### Evaluate with accuracy score"
      ],
      "metadata": {
        "id": "yfDdYcuxl4w4"
      }
    },
    {
      "cell_type": "code",
      "source": [
        "# Evaluate RNN model\n",
        "loss, acc = model.evaluate(X_test, y_test)\n",
        "print(f\"Test Accuracy: {acc}\")"
      ],
      "metadata": {
        "execution": {
          "iopub.status.busy": "2025-03-31T14:25:47.795016Z",
          "iopub.execute_input": "2025-03-31T14:25:47.795244Z",
          "iopub.status.idle": "2025-03-31T14:26:19.761036Z",
          "shell.execute_reply.started": "2025-03-31T14:25:47.795224Z",
          "shell.execute_reply": "2025-03-31T14:26:19.760172Z"
        },
        "trusted": true,
        "id": "yhq_iyfRl4w5",
        "outputId": "0d4569c1-8a24-49e2-9425-ea7b952113af",
        "colab": {
          "base_uri": "https://localhost:8080/"
        }
      },
      "outputs": [
        {
          "output_type": "stream",
          "name": "stdout",
          "text": [
            "\u001b[1m1019/1019\u001b[0m \u001b[32m━━━━━━━━━━━━━━━━━━━━\u001b[0m\u001b[37m\u001b[0m \u001b[1m22s\u001b[0m 21ms/step - accuracy: 0.8480 - loss: 0.2806\n",
            "Test Accuracy: 0.8533779382705688\n"
          ]
        }
      ],
      "execution_count": 23
    },
    {
      "cell_type": "code",
      "source": [
        "def preprocess_text(text):\n",
        "    # Convert text to sequence of integers\n",
        "    sequence = tokenizer.texts_to_sequences([text])\n",
        "\n",
        "    # Pad the sequence to match the input length used during training\n",
        "    padded_sequence = pad_sequences(sequence, maxlen=max_length)\n",
        "\n",
        "    return padded_sequence\n",
        "\n",
        "# Now you can predict\n",
        "text = \"The movie was sooo good. The cast outdid themselves\"\n",
        "processed_text = preprocess_text(text)\n",
        "prediction = model.predict(processed_text)\n",
        "\n",
        "# Interpret the prediction (depends on your specific task)\n",
        "print(class_names[f'{np.argmax(prediction)}'])"
      ],
      "metadata": {
        "trusted": true,
        "execution": {
          "iopub.status.busy": "2025-03-31T14:32:33.274567Z",
          "iopub.execute_input": "2025-03-31T14:32:33.27493Z",
          "iopub.status.idle": "2025-03-31T14:32:33.379541Z",
          "shell.execute_reply.started": "2025-03-31T14:32:33.274901Z",
          "shell.execute_reply": "2025-03-31T14:32:33.378727Z"
        },
        "id": "quo7xi-il4w5",
        "outputId": "2d64f4c0-66e8-4da7-9726-aa2a45c93e21",
        "colab": {
          "base_uri": "https://localhost:8080/"
        }
      },
      "outputs": [
        {
          "metadata": {
            "tags": null
          },
          "name": "stdout",
          "output_type": "stream",
          "text": [
            "\u001b[1m1/1\u001b[0m \u001b[32m━━━━━━━━━━━━━━━━━━━━\u001b[0m\u001b[37m\u001b[0m \u001b[1m0s\u001b[0m 391ms/step\n",
            "Positive\n"
          ]
        }
      ],
      "execution_count": 22
    }
  ]
}